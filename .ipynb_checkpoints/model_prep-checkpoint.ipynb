{
 "cells": [
  {
   "cell_type": "code",
   "execution_count": 2,
   "id": "d03c2d91",
   "metadata": {},
   "outputs": [],
   "source": [
    "import lux\n",
    "import pandas as pd\n",
    "import numpy as numpy\n",
    "import scipy as sp\n",
    "import sklearn\n",
    "import warnings\n",
    "import pickle\n",
    "warnings.filterwarnings('ignore')"
   ]
  },
  {
   "cell_type": "code",
   "execution_count": 3,
   "id": "2b202862",
   "metadata": {},
   "outputs": [],
   "source": [
    "from sklearn import linear_model,model_selection\n",
    "from sklearn.preprocessing import LabelEncoder\n",
    "from sklearn.metrics import accuracy_score,classification_report"
   ]
  },
  {
   "cell_type": "code",
   "execution_count": 4,
   "id": "0b3365a4",
   "metadata": {},
   "outputs": [],
   "source": [
    "#Cargamos los datos\n",
    "data_train=pd.read_csv('./input/train.csv')\n",
    "data_val=pd.read_csv('./input/test.csv')"
   ]
  },
  {
   "cell_type": "code",
   "execution_count": 5,
   "id": "bd605ba5",
   "metadata": {},
   "outputs": [],
   "source": [
    "#combinamos validation/test datasets\n",
    "data_train['test']=0\n",
    "data_val['test']=1\n",
    "data_all=data_train.append(data_val)"
   ]
  },
  {
   "cell_type": "markdown",
   "id": "da2f52b5",
   "metadata": {},
   "source": [
    "# Limpieza"
   ]
  },
  {
   "cell_type": "markdown",
   "id": "9f1c388d",
   "metadata": {},
   "source": [
    "### Valores faltantes"
   ]
  },
  {
   "cell_type": "code",
   "execution_count": 6,
   "id": "d357b9cd",
   "metadata": {},
   "outputs": [
    {
     "data": {
      "application/vnd.jupyter.widget-view+json": {
       "model_id": "8d175dae3b3148108f9f8bda85812b6d",
       "version_major": 2,
       "version_minor": 0
      },
      "text/plain": [
       "Button(description='Toggle Pandas/Lux', layout=Layout(top='5px', width='140px'), style=ButtonStyle())"
      ]
     },
     "metadata": {},
     "output_type": "display_data"
    },
    {
     "data": {
      "application/vnd.jupyter.widget-view+json": {
       "model_id": "5500d806a87649328c2896674d91799b",
       "version_major": 2,
       "version_minor": 0
      },
      "text/plain": [
       "Output()"
      ]
     },
     "metadata": {},
     "output_type": "display_data"
    }
   ],
   "source": [
    "data_all.isnull().sum()"
   ]
  },
  {
   "cell_type": "code",
   "execution_count": 7,
   "id": "4afa4b51",
   "metadata": {},
   "outputs": [],
   "source": [
    "# Sustituimos los valores faltantes en la variable edad por la mediana\n",
    "data_all['Age'].fillna(data_all['Age'].median(), inplace = True)\n",
    "\n",
    "# Sustituimos los valores faltantes en la variable \"Embarked\" por la moda\n",
    "data_all['Embarked'].fillna(data_all['Embarked'].mode()[0], inplace = True)\n",
    "\n",
    "# Sustituimos los valores faltantes en la variable \"Fare\" por la mediana\n",
    "data_all['Fare'].fillna(data_all['Fare'].median(), inplace = True)"
   ]
  },
  {
   "cell_type": "code",
   "execution_count": 8,
   "id": "ae3698e2",
   "metadata": {},
   "outputs": [
    {
     "data": {
      "application/vnd.jupyter.widget-view+json": {
       "model_id": "d8609dd5c4454a369893021f9eaa1ef3",
       "version_major": 2,
       "version_minor": 0
      },
      "text/plain": [
       "Button(description='Toggle Pandas/Lux', layout=Layout(top='5px', width='140px'), style=ButtonStyle())"
      ]
     },
     "metadata": {},
     "output_type": "display_data"
    },
    {
     "data": {
      "application/vnd.jupyter.widget-view+json": {
       "model_id": "2758610d883f48d984b664109845f3f3",
       "version_major": 2,
       "version_minor": 0
      },
      "text/plain": [
       "Output()"
      ]
     },
     "metadata": {},
     "output_type": "display_data"
    }
   ],
   "source": [
    "data_all.isnull().sum()"
   ]
  },
  {
   "cell_type": "markdown",
   "id": "832d8473",
   "metadata": {},
   "source": [
    "### Eliminamos variables irrelevantes"
   ]
  },
  {
   "cell_type": "code",
   "execution_count": 9,
   "id": "d54da863",
   "metadata": {},
   "outputs": [],
   "source": [
    "# Eliminamos el Id del pasajero, la cabina y el número de ticket, ya que son irrelevantes a la hora de construir un modelo predictivo\n",
    "drop_column = ['PassengerId','Cabin', 'Ticket']\n",
    "data_all.drop(drop_column, axis=1, inplace = True)"
   ]
  },
  {
   "cell_type": "code",
   "execution_count": 10,
   "id": "fa414a62",
   "metadata": {
    "scrolled": true
   },
   "outputs": [
    {
     "data": {
      "application/vnd.jupyter.widget-view+json": {
       "model_id": "0afc696d91504ba881c5ad0adc2625d4",
       "version_major": 2,
       "version_minor": 0
      },
      "text/plain": [
       "Button(description='Toggle Pandas/Lux', layout=Layout(top='5px', width='140px'), style=ButtonStyle())"
      ]
     },
     "metadata": {},
     "output_type": "display_data"
    },
    {
     "data": {
      "application/vnd.jupyter.widget-view+json": {
       "model_id": "2ce6f57f241443f69812cf04b8682e08",
       "version_major": 2,
       "version_minor": 0
      },
      "text/plain": [
       "Output()"
      ]
     },
     "metadata": {},
     "output_type": "display_data"
    }
   ],
   "source": [
    "data_all.isnull().sum()"
   ]
  },
  {
   "cell_type": "markdown",
   "id": "5cded021",
   "metadata": {},
   "source": [
    "### Creamos nuevas variables"
   ]
  },
  {
   "cell_type": "code",
   "execution_count": 11,
   "id": "1e27bb93",
   "metadata": {},
   "outputs": [],
   "source": [
    "# Creamos nuevas variables a partir del número de parientes a bordo\n",
    "# family size es el tamaño de la familia = número de hijos/padres a bordo + número de hermanos/pareja a bordo + 1(el propio tripulante)\n",
    "data_all['FamilySize'] = data_all['SibSp'] + data_all['Parch'] + 1  \n",
    "\n",
    "# \"IsAlone\" nos indica si la persona no estaba acompañada por nadie en el barco\n",
    "data_all['IsAlone'] = 1 # Inicializamos la variable con True para todos los registros\n",
    "data_all['IsAlone'].loc[data_all['FamilySize'] > 1] = 0 # Cambiamos a False para aquellos tripulantes con un tamaño de familia >1\n",
    "\n",
    "# Incluimos el título del pasajero (Sr./Sra.) en una nueva columna \n",
    "data_all['Title'] = data_all['Name'].str.split(\", \", expand=True)[1].str.split(\".\", expand=True)[0]"
   ]
  },
  {
   "cell_type": "markdown",
   "id": "44c31212",
   "metadata": {},
   "source": [
    "### Agrupamos en intervalos variables cuantitativas"
   ]
  },
  {
   "cell_type": "code",
   "execution_count": 12,
   "id": "b931eee4",
   "metadata": {},
   "outputs": [],
   "source": [
    "# Agrupamos las variables de edad y tarifa (\"Fare\") en intervalos:\n",
    "\n",
    "# La variable de fare la dividimos usando el comando de qcut. Esto nos dividirá los datos en cuartiles. \n",
    "# Es decir, cada intervalo tendrá la misma cantidad de datos.\n",
    "data_all['FareBin'] = pd.qcut(data_all['Fare'], 4)\n",
    "\n",
    "# La variable Age la dividimos usando el comando cut. Esta vez, los datos se dividirán en intervalos de igual amplitud.\n",
    "# Es decir, dividiremos la variable en 5 tramos de edad de igual amplitud teniendo en cuanta el valor máximo y el mínimo. \n",
    "# Por ello, podremos tener distinta cantidad de datos en cada uno de los intervalos\n",
    "data_all['AgeBin'] = pd.cut(data_all['Age'].astype(int), 5)"
   ]
  },
  {
   "cell_type": "markdown",
   "id": "010a19d3",
   "metadata": {},
   "source": [
    "### Codificamos mediante LabelEncoder las variables cualitativas"
   ]
  },
  {
   "cell_type": "code",
   "execution_count": 13,
   "id": "301dbb4e",
   "metadata": {},
   "outputs": [],
   "source": [
    "# Las variables AgeBin y FareBin pueden considerarse ahora como variables cualitativas al estar agrupadas en intervalos\n",
    "label = LabelEncoder()\n",
    "data_all['Sex_Code'] = label.fit_transform(data_all['Sex'])\n",
    "data_all['Embarked_Code'] = label.fit_transform(data_all['Embarked'])\n",
    "data_all['Title_Code'] = label.fit_transform(data_all['Title'])\n",
    "data_all['AgeBin_Code'] = label.fit_transform(data_all['AgeBin'])\n",
    "data_all['FareBin_Code'] = label.fit_transform(data_all['FareBin'])"
   ]
  },
  {
   "cell_type": "markdown",
   "id": "89fadbb9",
   "metadata": {},
   "source": [
    "## Análisis exploratorio"
   ]
  },
  {
   "cell_type": "code",
   "execution_count": 14,
   "id": "19e78527",
   "metadata": {},
   "outputs": [
    {
     "data": {
      "text/plain": [
       "(1309, 20)"
      ]
     },
     "execution_count": 14,
     "metadata": {},
     "output_type": "execute_result"
    }
   ],
   "source": [
    "data_all.shape"
   ]
  },
  {
   "cell_type": "code",
   "execution_count": 15,
   "id": "61f529cd",
   "metadata": {
    "scrolled": true
   },
   "outputs": [
    {
     "data": {
      "application/vnd.jupyter.widget-view+json": {
       "model_id": "d447d9365f7640e2984aa77ca5d8a07f",
       "version_major": 2,
       "version_minor": 0
      },
      "text/plain": [
       "Button(description='Toggle Pandas/Lux', layout=Layout(top='5px', width='140px'), style=ButtonStyle())"
      ]
     },
     "metadata": {},
     "output_type": "display_data"
    },
    {
     "data": {
      "application/vnd.jupyter.widget-view+json": {
       "model_id": "b44c3416eca6468cbd66fa70ea43b100",
       "version_major": 2,
       "version_minor": 0
      },
      "text/plain": [
       "Output()"
      ]
     },
     "metadata": {},
     "output_type": "display_data"
    }
   ],
   "source": [
    "data_all.head()"
   ]
  },
  {
   "cell_type": "code",
   "execution_count": 16,
   "id": "650c3c61",
   "metadata": {
    "scrolled": false
   },
   "outputs": [
    {
     "data": {
      "application/vnd.jupyter.widget-view+json": {
       "model_id": "ad3417030cdf42058e9d6ae61be1eb35",
       "version_major": 2,
       "version_minor": 0
      },
      "text/plain": [
       "Button(description='Toggle Pandas/Lux', layout=Layout(top='5px', width='140px'), style=ButtonStyle())"
      ]
     },
     "metadata": {},
     "output_type": "display_data"
    },
    {
     "data": {
      "application/vnd.jupyter.widget-view+json": {
       "model_id": "2423914a0a1c4c23aac97b8027346214",
       "version_major": 2,
       "version_minor": 0
      },
      "text/plain": [
       "Output()"
      ]
     },
     "metadata": {},
     "output_type": "display_data"
    }
   ],
   "source": [
    "data_all.describe()"
   ]
  },
  {
   "cell_type": "markdown",
   "id": "6115bb71",
   "metadata": {},
   "source": [
    "### Visualización"
   ]
  },
  {
   "cell_type": "code",
   "execution_count": 17,
   "id": "bd64866a",
   "metadata": {},
   "outputs": [
    {
     "data": {
      "text/plain": [
       "<AxesSubplot:>"
      ]
     },
     "execution_count": 17,
     "metadata": {},
     "output_type": "execute_result"
    },
    {
     "data": {
      "image/png": "[encoded data removed]",
      "text/plain": [
       "<Figure size 432x288 with 1 Axes>"
      ]
     },
     "metadata": {
      "needs_background": "light"
     },
     "output_type": "display_data"
    }
   ],
   "source": [
    "columns = data_all.columns\n",
    "data_all.boxplot(column = columns[1]) # Cambiar índice para dibujar boxplot de otra variable"
   ]
  },
  {
   "cell_type": "code",
   "execution_count": 18,
   "id": "7c21f30b",
   "metadata": {},
   "outputs": [],
   "source": [
    "data_all.intent=[\"Survived\"]"
   ]
  },
  {
   "cell_type": "code",
   "execution_count": 19,
   "id": "e5b01f56",
   "metadata": {
    "scrolled": true
   },
   "outputs": [
    {
     "data": {
      "application/vnd.jupyter.widget-view+json": {
       "model_id": "0e3f58f7430f457ab885194bb02a3b91",
       "version_major": 2,
       "version_minor": 0
      },
      "text/plain": [
       "Button(description='Toggle Pandas/Lux', layout=Layout(top='5px', width='140px'), style=ButtonStyle())"
      ]
     },
     "metadata": {},
     "output_type": "display_data"
    },
    {
     "data": {
      "application/vnd.jupyter.widget-view+json": {
       "model_id": "c3681e6d1283453084953ef4a32e0d08",
       "version_major": 2,
       "version_minor": 0
      },
      "text/plain": [
       "Output()"
      ]
     },
     "metadata": {},
     "output_type": "display_data"
    }
   ],
   "source": [
    "data_all"
   ]
  },
  {
   "cell_type": "markdown",
   "id": "dbcfc2cc",
   "metadata": {},
   "source": [
    "De las visualizaciones anteriores podemos deducir:\n",
    "\n",
    "1. El título parece guardar relación con la variable objetivo, en tanto en cuanto, una gran parte de aquellos pasajeros con el acrónimo de Mr. no sobrevivieron. Esto tiene lógica, puesto que los hombres fueron los últimos en abandonar el barco debido al protocolo de evacuación\n",
    "\n",
    "2. La mayor parte de los pasajeros que no sobrevivieron eran de 3ª clase\n",
    "\n",
    "3. El tipo de tarifa que pagaron los pasajeros también parece estar correlacionado con la variable objetivo. Parece ser que aquellos pasajeros que más pagaron por su billete tuvieron más probabilidades de salir con vida del accidente\n",
    "\n",
    "4. Si la persona viajaba sola, aumentan sus posibilidades de haber fallecido en el accidente\n"
   ]
  },
  {
   "cell_type": "markdown",
   "id": "d276260a",
   "metadata": {},
   "source": [
    "### Seleccionamos las variables que vamos a utilizar en nuestro modelo y la variable objetivo"
   ]
  },
  {
   "cell_type": "code",
   "execution_count": 20,
   "id": "f1acf77e",
   "metadata": {},
   "outputs": [],
   "source": [
    "Target = ['Survived']\n",
    "data_all_x_cols = ['Sex_Code','Pclass', 'Embarked_Code', 'Title_Code', 'FamilySize', 'AgeBin_Code', 'FareBin_Code']"
   ]
  },
  {
   "cell_type": "code",
   "execution_count": 21,
   "id": "47da8c07",
   "metadata": {},
   "outputs": [],
   "source": [
    "# separamos de nuevo en conjunto de test y conjunto de entrenamientoname=\"final_model.sav\"\n",
    "data_train=data_all[data_all['test']==0]\n",
    "data_val=data_all[data_all['test']==1]"
   ]
  },
  {
   "cell_type": "markdown",
   "id": "7537335a",
   "metadata": {},
   "source": [
    "# Cargamos el modelo"
   ]
  },
  {
   "cell_type": "markdown",
   "id": "5ae77489",
   "metadata": {},
   "source": [
    "### Aplicamos validación cruzada"
   ]
  },
  {
   "cell_type": "code",
   "execution_count": 22,
   "id": "438907b0",
   "metadata": {},
   "outputs": [],
   "source": [
    "results = model_selection.cross_validate(linear_model.LogisticRegressionCV(), data_train[data_all_x_cols], data_train[Target], cv = 5)"
   ]
  },
  {
   "cell_type": "code",
   "execution_count": 23,
   "id": "38296944",
   "metadata": {},
   "outputs": [
    {
     "data": {
      "text/plain": [
       "{'fit_time': array([0.14702344, 0.21310115, 0.17697453, 0.17063212, 0.15112519]),\n",
       " 'score_time': array([0.00199986, 0.00099969, 0.00200081, 0.00099993, 0.00106692]),\n",
       " 'test_score': array([0.77094972, 0.78651685, 0.7752809 , 0.7752809 , 0.81460674])}"
      ]
     },
     "execution_count": 23,
     "metadata": {},
     "output_type": "execute_result"
    }
   ],
   "source": [
    "results"
   ]
  },
  {
   "cell_type": "markdown",
   "id": "67149b03",
   "metadata": {},
   "source": [
    "### Caragamos el modelo y entrenamos con todos los datos de entrenamiento"
   ]
  },
  {
   "cell_type": "code",
   "execution_count": 24,
   "id": "52d9b8f4",
   "metadata": {},
   "outputs": [],
   "source": [
    "model=linear_model.LogisticRegressionCV()\n",
    "model.fit(data_train[data_all_x_cols], data_train[Target])\n",
    "predictions=model.predict(data_train[data_all_x_cols])"
   ]
  },
  {
   "cell_type": "markdown",
   "id": "ad11c600",
   "metadata": {},
   "source": [
    "### Analizamos resultados"
   ]
  },
  {
   "cell_type": "code",
   "execution_count": 25,
   "id": "5f96c45a",
   "metadata": {},
   "outputs": [
    {
     "name": "stdout",
     "output_type": "stream",
     "text": [
      "accuracy:                precision    recall  f1-score   support\n",
      "\n",
      "         0.0       0.82      0.85      0.84       549\n",
      "         1.0       0.75      0.71      0.73       342\n",
      "\n",
      "    accuracy                           0.80       891\n",
      "   macro avg       0.79      0.78      0.78       891\n",
      "weighted avg       0.80      0.80      0.80       891\n",
      "\n"
     ]
    }
   ],
   "source": [
    "print(\"accuracy: \",classification_report(data_train[Target],predictions))\n",
    "#Conseguimos un accuracy entorno a un 80%"
   ]
  },
  {
   "cell_type": "markdown",
   "id": "817ca975",
   "metadata": {},
   "source": [
    "### Guardamos el modelo"
   ]
  },
  {
   "cell_type": "code",
   "execution_count": 26,
   "id": "0b12bd6e",
   "metadata": {},
   "outputs": [],
   "source": [
    "name=\"final_model.sav\"\n",
    "pickle.dump(model, open(name, 'wb'))"
   ]
  }
 ],
 "metadata": {
  "kernelspec": {
   "display_name": "Python 3 (ipykernel)",
   "language": "python",
   "name": "python3"
  },
  "language_info": {
   "codemirror_mode": {
    "name": "ipython",
    "version": 3
   },
   "file_extension": ".py",
   "mimetype": "text/x-python",
   "name": "python",
   "nbconvert_exporter": "python",
   "pygments_lexer": "ipython3",
   "version": "3.8.13"
  }
 },
 "nbformat": 4,
 "nbformat_minor": 5
}
